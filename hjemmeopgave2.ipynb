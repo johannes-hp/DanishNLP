{
 "cells": [
  {
   "cell_type": "markdown",
   "metadata": {},
   "source": [
    "## Opgave 1 - frekvenslister\n",
    "Skriv et program, som laver en repræsentation af hver tekst (kejseren.txt samt alice.txt), således at hvert ord i hver tekst lagres sammen med ordets frekvens i teksten. Ord og frekvens lagres i en dictionary. Denne repræsentation kan herefter anvendes til at udskrive en frekvensliste for hver tekst til en output-fil. Filen stop.txt skal bruges til at frasortere de mest almindelige ord fra teksterne, så disse ikke indgår i frekvenslisten.\n",
    "\n",
    "Bruger skal selv kunne indtaste filnavne på de filer, som skal processeres (som eksempler anvendes kejseren.txt og alice.txt). Hvis du ikke kan få dit program til at fungere med et ukendt antal filer, som brugeren selv indtaster, så åbner du bare de 2 filer (uden at bede bruger gøre noget).\n",
    "\n",
    "Du skal altså oprette en frekvensliste for hver tekst (hvor stopord er frasorteret) og udskrive disse  frekvenslister  til  en  fil,  som  du  kan  kalde  freq.txt.  Frekvenslisterne  skal  udskrives  i sorteret rækkefølge med det mest frekvente ord øverst. Hvis det er svært at få det til at fungere, så start med at printe resultatet til skærmen og så få det til at fungere med freq.txt senere.\n",
    "\n",
    "Husk at udskrive passende overskrifter i din freq.txt – så det er nemt at finde rundt i filen (så man fx ved hvilken frekvensliste, der hører til hvilken fil).\n",
    "\n",
    "I  en  rapport  vil  det  være  relevant  at  gøre  nøje  rede  for,  hvilken  form  for  indeksering,  der  er foretaget i repræsentationen af teksten – og hvilke andre former for indeksering, man også bør overveje, hvis resurserne er til stede (kig bl.a. i Croft fra side 15 og fra side 73). \n",
    "\n",
    "Programmets kommunikation med brugeren kan se således ud:\n",
    "\n",
    "        indtast filnavn eller tast \"exit\" for at stoppe programmet: kejseren.txt\n",
    "        indtast filnavn eller tast \"exit\" for at stoppe programmet: alice.txt\n",
    "        indtast filnavn eller tast \"exit\" for at stoppe programmet: exit"
   ]
  },
  {
   "cell_type": "code",
   "execution_count": 1,
   "metadata": {},
   "outputs": [],
   "source": [
    "def freq_calc_get(iterable):\n",
    "    d = {}\n",
    "    import string\n",
    "    for el in iterable:\n",
    "        el = el.strip(string.punctuation+'“”') #kejseren har de skæve citationstegn, som ikke findes i string.punctuation\n",
    "        if not el == '':\n",
    "            d[el] = d.get(el, 0) + 1\n",
    "            \n",
    "    return d"
   ]
  },
  {
   "cell_type": "code",
   "execution_count": 2,
   "metadata": {},
   "outputs": [],
   "source": [
    "def file_to_freqlist(filename):\n",
    "    with open(filename, encoding = 'utf-8-sig') as f:\n",
    "        with open('stop.txt', encoding = 'utf-8-sig') as f_stop:\n",
    "            stoplist = f_stop.read().split() #liste med stopord\n",
    "            textlist = f.read().lower().split() #liste med filens ord\n",
    "            textlist = [word for word in textlist if word not in stoplist] #liste med filens ord uden stopord\n",
    "            freq_d = freq_calc_get(textlist) #dict med ord og deres frekvens\n",
    "            freq_l = sorted(list(freq_d.items()), key = lambda x: x[-1] , reverse = True) #frekvensliste\n",
    "            return freq_l"
   ]
  },
  {
   "cell_type": "code",
   "execution_count": 3,
   "metadata": {},
   "outputs": [],
   "source": [
    "def write_freqlist_to_file():\n",
    "    user_input = input('Indtast filnavn eller tast \\\"exit\\\" for at stoppe programmet: ')\n",
    "    \n",
    "    if user_input.lower() == 'exit':\n",
    "        print('Du har stoppet programmet.')\n",
    "        \n",
    "    else:\n",
    "        freq_l = file_to_freqlist(user_input)\n",
    "        with open('freq.txt', 'a') as fout:\n",
    "            fout.write('Filnavn: ' + user_input + '\\n\\n')\n",
    "            for el in freq_l:\n",
    "                fout.write(str(el[-1]) + ' ' + el[0] + '\\n')\n",
    "            fout.write('\\n')\n",
    "        write_freqlist_to_file()"
   ]
  },
  {
   "cell_type": "code",
   "execution_count": 4,
   "metadata": {},
   "outputs": [
    {
     "name": "stdout",
     "output_type": "stream",
     "text": [
      "Indtast filnavn eller tast \"exit\" for at stoppe programmet: exit\n",
      "Du har stoppet programmet.\n"
     ]
    }
   ],
   "source": [
    "write_freqlist_to_file()"
   ]
  },
  {
   "cell_type": "markdown",
   "metadata": {},
   "source": [
    "## Opgave 2 - Udregn lixtal på et antal tekster\n",
    "Skriv et program, som kan udregne lixtallet på et antal tekster. Brugeren vælger selv, hvor mange tekster, programmet skal arbejde med. Du anvender alice.txt og kejseren.txt som eksempelfiler. Du bestemmer selv, hvordan programmets dialog med brugeren skal være, og du bestemmer selv, om brugeren skal indtaste alle filnavne på én gang eller om brugeren skal indtaste først ét filnavn, så udregnes lixtallet for denne fil, så indtaster brugeren næste filnavn osv. \n",
    "\n",
    "Lixtallet for en tekst kan (i en simpel udgave) udregnes således: LIXTALLET = O / S + (L ∗ 100) / O\n",
    "\n",
    "Hvor O er antal ord, S er antal sætninger, L er antal lange ord, dvs. ord på 6 eller flere bogstaver.\n",
    "\n",
    "I en rapport kan du beskrive de svagheder, som findes i programmet. Herunder bør det nøje beskrives, hvordan du har defineret et ord og hvordan du har defineret en sætning. Det er især langt fra indlysende, hvad en sætning er. Har du ideer til, hvordan man kan komme nogle af svaghederne til livs? Hvis du kan, må du meget gerne løse nogle af svaghederne i dit program.\n",
    "\n",
    "Filnavne med tilhørende lixtal udskrives til skærmen og til en fil (lixout.txt)."
   ]
  },
  {
   "cell_type": "code",
   "execution_count": 5,
   "metadata": {},
   "outputs": [],
   "source": [
    "def calc_lix(filename):\n",
    "    with open(filename, encoding = 'utf-8-sig') as f:\n",
    "        text = f.read()\n",
    "        \n",
    "        from nltk import tokenize\n",
    "        sent_list = tokenize.sent_tokenize(text) #giver relativt få sætninger, fordi nltk ikke splitter sætninger ved direkte tale\n",
    "        \n",
    "        import string\n",
    "        word_list = text.lower().split()\n",
    "        for index, word in enumerate(word_list):\n",
    "            word_list[index] = word.strip(string.punctuation+'“”')\n",
    "            \n",
    "        long_words_list = [word for word in word_list if len(word) >= 6]\n",
    "        \n",
    "        lixtal = len(word_list) / len(sent_list) + (len(long_words_list * 100))/len(word_list)\n",
    "        return lixtal"
   ]
  },
  {
   "cell_type": "code",
   "execution_count": 6,
   "metadata": {},
   "outputs": [],
   "source": [
    "def write_lix_to_file():\n",
    "    user_input = input('Indtast en fil, som du vil udregne lixtal på, eller tast \\\"exit\\\" for at afslutte: ')\n",
    "    if user_input.lower() == 'exit':\n",
    "        print('Du har stoppet programmet')\n",
    "    else:\n",
    "        lixtal = calc_lix(user_input)\n",
    "        with open('lixout.txt', 'a') as fout:\n",
    "            fout.write('Filnavn: ' + user_input + '\\n')\n",
    "            fout.write('Lixtal: ' + str(round(lixtal, 2)) + '\\n\\n')\n",
    "            write_lix_to_file()"
   ]
  },
  {
   "cell_type": "code",
   "execution_count": 7,
   "metadata": {},
   "outputs": [
    {
     "name": "stdout",
     "output_type": "stream",
     "text": [
      "Indtast en fil, som du vil udregne lixtal på, eller tast \"exit\" for at afslutte: exit\n",
      "Du har stoppet programmet\n"
     ]
    }
   ],
   "source": [
    "write_lix_to_file()"
   ]
  },
  {
   "cell_type": "code",
   "execution_count": 8,
   "metadata": {},
   "outputs": [
    {
     "data": {
      "text/plain": [
       "51.77829643665943"
      ]
     },
     "execution_count": 8,
     "metadata": {},
     "output_type": "execute_result"
    }
   ],
   "source": [
    "calc_lix('kejseren.txt')"
   ]
  },
  {
   "cell_type": "markdown",
   "metadata": {},
   "source": [
    "## Opgave 3 - Stemmer\n",
    "Denne opgave drejer sig om at udarbejde en dansk stemmer, dvs. et program der finder ordets stamme. I en evt. rapport vil det være oplagt at beskrive, hvordan en stemmer arbejder ift. en lemmatiser og hvad fordele/ulemper er ved de to typer værktøjer. I rapporten kan også indgå en beskrivelse af hvorfor (og i forbindelse med hvilke værktøjer/programmer) en lemmatiser/stemmer kan udgøre et uundværligt præprocesseringsskridt.\n",
    "\n",
    "På adressen http://snowball.tartarus.org/algorithms/danish/stemmer.html er algoritmen beskrevet, men endnu vigtigere: i den røde boks kan I se både ordet som er input til programmet samt hvad ordets stamme er, dvs. hvad der bør være programmets output (det kan nemlig være lidt overraskende, hvad en stemmer forventes at give som output). Når du bliver i tvivl om, hvad algoritmen egentlig beder dig om at gøre, kan du se på hvad outputtet skal være. Sommetider kan man blive lidt klogere på den måde.\n",
    "\n",
    "Du bestemmer helt selv, hvordan programmet skal igangsættes, hvordan kommunikation med bruger skal være osv."
   ]
  },
  {
   "cell_type": "code",
   "execution_count": 1,
   "metadata": {},
   "outputs": [],
   "source": [
    "vowels = 'aeiouyæøå'\n",
    "s_endings = 'abcdfghjklmnoprtvyzå'\n",
    "suffixes_list = [\n",
    "    'hed', 'ethed', 'ered', 'e', 'erede', 'ende',\n",
    "    'erende', 'ene', 'erne', 'ere', 'en', 'heden',\n",
    "    'eren', 'er', 'heder', 'erer', 'heds', 'es',\n",
    "    'endes', 'erendes', 'enes', 'ernes', 'eres',\n",
    "    'ens', 'hedens', 'erens', 'ers', 'ets', 'erets',\n",
    "    'et', 'eret'\n",
    "]            "
   ]
  },
  {
   "cell_type": "code",
   "execution_count": 2,
   "metadata": {},
   "outputs": [],
   "source": [
    "def find_r1(word):\n",
    "    \n",
    "    if word.startswith('ind'): #r1 i disse ord skal ikke komme efter tre eller flere bogstaver\n",
    "        for index, char in enumerate(word):\n",
    "            if not index == len(word) - 1:\n",
    "                if char in vowels and word[index + 1] not in vowels:\n",
    "                    return word[index + 2:]\n",
    "                \n",
    "    for index, char in enumerate(word):\n",
    "        if not index == len(word) - 1:\n",
    "            if char in vowels and word[index + 1] not in vowels and len(word[:index + 2]) >= 3:\n",
    "                return word[index + 2:]\n",
    "    \n",
    "    return ''"
   ]
  },
  {
   "cell_type": "code",
   "execution_count": 3,
   "metadata": {},
   "outputs": [],
   "source": [
    "def step1(word, suffixes):\n",
    "    r1 = find_r1(word)\n",
    "    for suffix in sorted(suffixes, key = len, reverse = True):\n",
    "        if r1.endswith(suffix):\n",
    "            word = word[:-len(suffix)]\n",
    "            return word\n",
    "    if len(r1) > 0 and r1[-1] == 's' and word[-2] in s_endings:\n",
    "        word = word[:-1]\n",
    "    return word"
   ]
  },
  {
   "cell_type": "code",
   "execution_count": 4,
   "metadata": {},
   "outputs": [],
   "source": [
    "def step2(word):\n",
    "    double_consonants = ['gd', 'kt', 'gt', 'dt']\n",
    "    r1 = find_r1(word)\n",
    "    for el in double_consonants:\n",
    "        if r1.endswith(el):\n",
    "            word = word[:-1]\n",
    "    return word"
   ]
  },
  {
   "cell_type": "code",
   "execution_count": 5,
   "metadata": {},
   "outputs": [],
   "source": [
    "def step3(word):\n",
    "    if word.endswith('igst'):\n",
    "        word = word[:-2]\n",
    "    endings = ['ig', 'lig', 'elig', 'els']\n",
    "    r1 = find_r1(word)\n",
    "    for ending in sorted(endings, key = len, reverse = True):\n",
    "        if r1.endswith(ending):\n",
    "            word = word[:-len(ending)]\n",
    "            word = step2(word)\n",
    "            return word\n",
    "    if word.endswith('løst'):\n",
    "        word = word[:-1]\n",
    "        return word\n",
    "    return word"
   ]
  },
  {
   "cell_type": "code",
   "execution_count": 6,
   "metadata": {},
   "outputs": [],
   "source": [
    "def step4(word):\n",
    "    if len(word) >= 2 and word[-1] not in vowels and word[-1] == word[-2]:\n",
    "        word = word[:-1]\n",
    "    return word"
   ]
  },
  {
   "cell_type": "code",
   "execution_count": 7,
   "metadata": {},
   "outputs": [],
   "source": [
    "def word_stem(word):\n",
    "    word = step1(word, suffixes_list)\n",
    "    word = step2(word)\n",
    "    word = step3(word)\n",
    "    word = step4(word)\n",
    "    return word"
   ]
  },
  {
   "cell_type": "code",
   "execution_count": 9,
   "metadata": {},
   "outputs": [
    {
     "data": {
      "text/plain": [
       "'undervis'"
      ]
     },
     "execution_count": 9,
     "metadata": {},
     "output_type": "execute_result"
    }
   ],
   "source": [
    "word_stem('underviserne')"
   ]
  },
  {
   "cell_type": "code",
   "execution_count": 32,
   "metadata": {},
   "outputs": [
    {
     "data": {
      "text/plain": [
       "'temmelse'"
      ]
     },
     "execution_count": 32,
     "metadata": {},
     "output_type": "execute_result"
    }
   ],
   "source": [
    "find_r1('bestemmelse')"
   ]
  },
  {
   "cell_type": "code",
   "execution_count": 19,
   "metadata": {},
   "outputs": [],
   "source": [
    "word_list = [\n",
    "    'indtage', 'indtagelse', 'indtager', 'indtages',\n",
    "    'indtaget', 'indtil', 'indtog', 'indtraf', 'indtryk',\n",
    "    'indtræde', 'indtræder', 'indtræffe', 'indtræffer',\n",
    "    'indtrængende', 'indtægt', 'indtægter', 'indvandrede',\n",
    "    'indvandret', 'indvender', 'indvendig', 'indvendige',\n",
    "    'indvendigt', 'indvending', 'indvendingerne', 'indvie',\n",
    "    'indviede', 'indvielse', 'indvielsen', 'indvielsesløfte',\n",
    "    'indvielsestid', 'indvier', 'indvies', 'indviet', 'indvikle',\n",
    "    'indvikler', 'indvolde', 'indvoldene', 'indvortes', 'indånde',\n",
    "    'indåndede'\n",
    "]\n",
    "check_list = [\n",
    "    'indtag',\n",
    "'indtag',\n",
    "'indtag',\n",
    "'indtag',\n",
    "'indtag',\n",
    "'indtil',\n",
    "'indtog',\n",
    "'indtraf',\n",
    "'indtryk',\n",
    "'indtræd',\n",
    "'indtræd',\n",
    "'indtræf',\n",
    "'indtræf',\n",
    "'indtræng',\n",
    "'indtæg',\n",
    "'indtæg',\n",
    "'indvandred',\n",
    "'indvandr',\n",
    "'indvend',\n",
    "'indvend',\n",
    "'indvend',\n",
    "'indvend',\n",
    "'indvending',\n",
    "'indvending',\n",
    "'indvi',\n",
    "'indvied',\n",
    "'indvi',\n",
    "'indvi',\n",
    "'indvielsesløft',\n",
    "'indvielsestid',\n",
    "'indvi',\n",
    "'indvi',\n",
    "'indvi',\n",
    "'indvikl',\n",
    "'indvikl',\n",
    "'indvold',\n",
    "'indvold',\n",
    "'indvort',\n",
    "'indånd',\n",
    "'indånded'\n",
    "]"
   ]
  },
  {
   "cell_type": "code",
   "execution_count": 20,
   "metadata": {},
   "outputs": [],
   "source": [
    "stem_list = [word_stem(word) for word in word_list]"
   ]
  },
  {
   "cell_type": "code",
   "execution_count": 21,
   "metadata": {},
   "outputs": [
    {
     "name": "stdout",
     "output_type": "stream",
     "text": [
      "indtag yeet\n",
      "indtag yeet\n",
      "indtag yeet\n",
      "indtag yeet\n",
      "indtag yeet\n",
      "indtil yeet\n",
      "indtog yeet\n",
      "indtraf yeet\n",
      "indtryk yeet\n",
      "indtræd yeet\n",
      "indtræd yeet\n",
      "indtræf yeet\n",
      "indtræf yeet\n",
      "indtræng yeet\n",
      "indtæg yeet\n",
      "indtæg yeet\n",
      "indvandred yeet\n",
      "indvandr yeet\n",
      "indvend yeet\n",
      "indvend yeet\n",
      "indvend yeet\n",
      "indvend yeet\n",
      "indvending yeet\n",
      "indvending yeet\n",
      "indvi yeet\n",
      "indvied yeet\n",
      "indvi yeet\n",
      "indvi yeet\n",
      "indvielsesløft yeet\n",
      "indvielsestid yeet\n",
      "indvi yeet\n",
      "indvi yeet\n",
      "indvi yeet\n",
      "indvikl yeet\n",
      "indvikl yeet\n",
      "indvold yeet\n",
      "indvold yeet\n",
      "indvort yeet\n",
      "indånd yeet\n",
      "indånded yeet\n"
     ]
    }
   ],
   "source": [
    "for index, word in enumerate(stem_list):\n",
    "    if word == check_list[index]:\n",
    "        print(word, 'yeet')\n",
    "    elif word != check_list[index]:\n",
    "        print(word, 'sheet')"
   ]
  },
  {
   "cell_type": "code",
   "execution_count": null,
   "metadata": {},
   "outputs": [],
   "source": []
  }
 ],
 "metadata": {
  "kernelspec": {
   "display_name": "Python 3",
   "language": "python",
   "name": "python3"
  },
  "language_info": {
   "codemirror_mode": {
    "name": "ipython",
    "version": 3
   },
   "file_extension": ".py",
   "mimetype": "text/x-python",
   "name": "python",
   "nbconvert_exporter": "python",
   "pygments_lexer": "ipython3",
   "version": "3.8.3"
  }
 },
 "nbformat": 4,
 "nbformat_minor": 4
}
